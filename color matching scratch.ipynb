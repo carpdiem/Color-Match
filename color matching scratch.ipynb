{
 "cells": [
  {
   "cell_type": "code",
   "execution_count": 1,
   "metadata": {},
   "outputs": [],
   "source": [
    "%matplotlib inline"
   ]
  },
  {
   "cell_type": "code",
   "execution_count": 2,
   "metadata": {},
   "outputs": [],
   "source": [
    "import numpy as np\n",
    "import matplotlib.pyplot as plt"
   ]
  },
  {
   "cell_type": "code",
   "execution_count": 3,
   "metadata": {},
   "outputs": [],
   "source": [
    "hc_kB = 0.0143877735\n",
    "\n",
    "def planck(l, t):\n",
    "    return 1. / l**5.0 * 1. / (np.exp(hc_kB / (l * t)) - 1)"
   ]
  },
  {
   "cell_type": "code",
   "execution_count": 4,
   "metadata": {},
   "outputs": [],
   "source": [
    "data = np.loadtxt('lin2012xyz10e_fine_7sf.csv', delimiter=',')"
   ]
  },
  {
   "cell_type": "code",
   "execution_count": 5,
   "metadata": {},
   "outputs": [
    {
     "name": "stdout",
     "output_type": "stream",
     "text": [
      "min wavelength: 390.0\n",
      "max wavelength: 830.0\n"
     ]
    }
   ],
   "source": [
    "wavelength_nm = data[:,0]\n",
    "wavelength = wavelength_nm * 10**-9\n",
    "s1 = data[:,1]\n",
    "s2 = data[:,2]\n",
    "s3 = data[:,3]\n",
    "print(\"min wavelength:\", wavelength_nm[0])\n",
    "print(\"max wavelength:\", wavelength_nm[-1])"
   ]
  },
  {
   "cell_type": "code",
   "execution_count": 6,
   "metadata": {},
   "outputs": [
    {
     "data": {
      "text/plain": [
       "[<matplotlib.lines.Line2D at 0x7efc8319e6d0>]"
      ]
     },
     "execution_count": 6,
     "metadata": {},
     "output_type": "execute_result"
    },
    {
     "data": {
      "image/png": "[encoded data removed]",
      "text/plain": [
       "<Figure size 432x288 with 1 Axes>"
      ]
     },
     "metadata": {
      "needs_background": "light"
     },
     "output_type": "display_data"
    }
   ],
   "source": [
    "plt.plot(wavelength_nm, s1)\n",
    "plt.plot(wavelength_nm, s2)\n",
    "plt.plot(wavelength_nm, s3)"
   ]
  },
  {
   "cell_type": "code",
   "execution_count": 7,
   "metadata": {},
   "outputs": [
    {
     "name": "stderr",
     "output_type": "stream",
     "text": [
      "<ipython-input-3-0904efcaeba5>:4: RuntimeWarning: divide by zero encountered in double_scalars\n",
      "  return 1. / l**5.0 * 1. / (np.exp(hc_kB / (l * t)) - 1)\n",
      "<ipython-input-3-0904efcaeba5>:4: RuntimeWarning: invalid value encountered in double_scalars\n",
      "  return 1. / l**5.0 * 1. / (np.exp(hc_kB / (l * t)) - 1)\n",
      "<ipython-input-3-0904efcaeba5>:4: RuntimeWarning: overflow encountered in exp\n",
      "  return 1. / l**5.0 * 1. / (np.exp(hc_kB / (l * t)) - 1)\n"
     ]
    },
    {
     "data": {
      "text/plain": [
       "[<matplotlib.lines.Line2D at 0x7efc80ad3b50>]"
      ]
     },
     "execution_count": 7,
     "metadata": {},
     "output_type": "execute_result"
    },
    {
     "data": {
      "image/png": "[encoded data removed]",
      "text/plain": [
       "<Figure size 432x288 with 1 Axes>"
      ]
     },
     "metadata": {
      "needs_background": "light"
     },
     "output_type": "display_data"
    }
   ],
   "source": [
    "l = np.linspace(0, 1800e-9, 1001)\n",
    "p = np.array([planck(ll, 3000.) for ll in l])\n",
    "plt.plot(l, p)"
   ]
  },
  {
   "cell_type": "code",
   "execution_count": 8,
   "metadata": {},
   "outputs": [],
   "source": [
    "def planck_spectrum(t):\n",
    "    return np.array([planck(l * 10**-9, t) for l in wavelength_nm])"
   ]
  },
  {
   "cell_type": "code",
   "execution_count": 9,
   "metadata": {},
   "outputs": [],
   "source": [
    "def sense_vector(spectrum):\n",
    "    \"\"\"Returns the expected sensory-perception vector corresponding to the normalized (and relative)\n",
    "    amounts of signal received on the L(ong), M(edium), and S(hort) wavelength color receptors\n",
    "    according to the 10-deg XYZ CMFs transformed from the CIE (2006) 2-deg LMS cone fundamentals\n",
    "    with a 0.1nm spacing from: http://cvrl.ioo.ucl.ac.uk/cmfs.htm\"\"\"\n",
    "    s = np.matrix([np.sum(s1 * spectrum), np.sum(s2 * spectrum), np.sum(s3 * spectrum)]).T\n",
    "    return s / np.max(s)"
   ]
  },
  {
   "cell_type": "code",
   "execution_count": 10,
   "metadata": {},
   "outputs": [
    {
     "name": "stdout",
     "output_type": "stream",
     "text": [
      "2800K: [[1.         0.88854827 0.29811608]]\n",
      "3600K: [[1.         0.95723777 0.51997556]]\n",
      "4400K: [[1.         0.99626219 0.72999208]]\n",
      "5200K: [[0.98219771 1.         0.89702919]]\n"
     ]
    }
   ],
   "source": [
    "temps = [2800, 3600, 4400, 5200]\n",
    "for t in temps:\n",
    "    print(str(t) + \"K:\", sense_vector(planck_spectrum(t)).T)"
   ]
  },
  {
   "cell_type": "code",
   "execution_count": 11,
   "metadata": {},
   "outputs": [],
   "source": [
    "def s_lookup(num, wl):\n",
    "    \"\"\"num = 1, 2, 3 (corresponds to L(ong), M(edium), S(hort) wavelength receptors)\n",
    "    wl (wavelength) should be in meters.\"\"\"\n",
    "    # wl should be between min(wl) and max(wl)\n",
    "    if num == 1:\n",
    "        s = s1\n",
    "    elif num == 2:\n",
    "        s = s2\n",
    "    elif num == 3:\n",
    "        s = s3\n",
    "    return s[np.argmin((wavelength - wl)**2.0)]\n",
    "\n",
    "def rgb_composition(l1, l2, l3, sv):\n",
    "    \"\"\"Finds relative intensities required with lamps at l1, l2, and l3 in wavelength (meters) space to match\n",
    "    the sense vector (sv) provided in the arguments.\n",
    "    \n",
    "    Note: sv should be a 3x1 column matrix (same format produced by sense_vector function),\n",
    "    and l1, l2, l3 should have units of meters.\"\"\"\n",
    "    s_mat = np.matrix([[s_lookup(1, l1), s_lookup(1, l2), s_lookup(1, l3)],\n",
    "                       [s_lookup(2, l1), s_lookup(2, l2), s_lookup(2, l3)],\n",
    "                       [s_lookup(3, l1), s_lookup(3, l2), s_lookup(3, l3)]])\n",
    "    c_mat = s_mat.I * sv\n",
    "    return c_mat / np.max(c_mat)"
   ]
  },
  {
   "cell_type": "code",
   "execution_count": 12,
   "metadata": {},
   "outputs": [
    {
     "data": {
      "text/plain": [
       "matrix([[1.        ],\n",
       "        [0.26544983],\n",
       "        [0.04581015]])"
      ]
     },
     "execution_count": 12,
     "metadata": {},
     "output_type": "execute_result"
    }
   ],
   "source": [
    "rgb_composition(630e-9, 530e-9, 475e-9, sense_vector(planck_spectrum(1800)))"
   ]
  },
  {
   "cell_type": "code",
   "execution_count": null,
   "metadata": {},
   "outputs": [],
   "source": []
  }
 ],
 "metadata": {
  "kernelspec": {
   "display_name": "Python 3",
   "language": "python",
   "name": "python3"
  },
  "language_info": {
   "codemirror_mode": {
    "name": "ipython",
    "version": 3
   },
   "file_extension": ".py",
   "mimetype": "text/x-python",
   "name": "python",
   "nbconvert_exporter": "python",
   "pygments_lexer": "ipython3",
   "version": "3.8.2"
  }
 },
 "nbformat": 4,
 "nbformat_minor": 4
}
